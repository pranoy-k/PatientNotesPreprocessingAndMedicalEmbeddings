{
 "cells": [
  {
   "cell_type": "markdown",
   "metadata": {},
   "source": [
    "# Patient Notes PreProcessing and Training Medical Embeddings"
   ]
  },
  {
   "cell_type": "markdown",
   "metadata": {},
   "source": [
    "## Importing the libraries"
   ]
  },
  {
   "cell_type": "code",
   "execution_count": 1,
   "metadata": {},
   "outputs": [],
   "source": [
    "import csv\n",
    "import nltk\n",
    "import gensim, logging\n",
    "import os\n",
    "import numpy as np\n",
    "import torch\n",
    "import pprint\n",
    "from Util.csvSplitter import *"
   ]
  },
  {
   "cell_type": "markdown",
   "metadata": {},
   "source": [
    "### Directories and Constants"
   ]
  },
  {
   "cell_type": "code",
   "execution_count": 2,
   "metadata": {},
   "outputs": [],
   "source": [
    "DataDir = \"./Data/\""
   ]
  },
  {
   "cell_type": "markdown",
   "metadata": {},
   "source": [
    "## Curating the Dataset\n",
    "\n",
    "Lets know more about the dataset and explore more before we train our embeddings"
   ]
  },
  {
   "cell_type": "code",
   "execution_count": 6,
   "metadata": {},
   "outputs": [],
   "source": [
    "with open(\"test.csv\") as notes:\n",
    "    _notes = csv.reader(notes, delimiter=',')\n",
    "    for i,note in enumerate(_notes):\n",
    "        print(note)\n",
    "        break\n",
    "\n",
    "     "
   ]
  },
  {
   "cell_type": "markdown",
   "metadata": {},
   "source": [
    "### Splitting the NOTEEVENTS table into smaller files for processing to the Embeddings"
   ]
  },
  {
   "cell_type": "code",
   "execution_count": null,
   "metadata": {},
   "outputs": [],
   "source": [
    "split(DataDir + \"NOTEEVENTS.csv\", row_limit=5, output_path=\"./Data/\", output_name_template='NOTEEVENTS_%s.csv')"
   ]
  },
  {
   "cell_type": "markdown",
   "metadata": {},
   "source": [
    "## Tokenizing the Files "
   ]
  },
  {
   "cell_type": "code",
   "execution_count": null,
   "metadata": {},
   "outputs": [],
   "source": [
    "with open(\"test.csv\") as notes:\n",
    "    _notes = csv.reader(notes, delimiter=',')\n",
    "    for i,note in enumerate(_notes):\n",
    "#         print(nltk.word_tokenize(note[-1].lower()))\n",
    "#         if(note['ROW_ID'] == '1'):\n",
    "        \n",
    "        print(note)\n",
    "        break"
   ]
  }
 ],
 "metadata": {
  "kernelspec": {
   "display_name": "Python 3",
   "language": "python",
   "name": "python3"
  },
  "language_info": {
   "codemirror_mode": {
    "name": "ipython",
    "version": 3
   },
   "file_extension": ".py",
   "mimetype": "text/x-python",
   "name": "python",
   "nbconvert_exporter": "python",
   "pygments_lexer": "ipython3",
   "version": "3.5.4"
  }
 },
 "nbformat": 4,
 "nbformat_minor": 2
}
